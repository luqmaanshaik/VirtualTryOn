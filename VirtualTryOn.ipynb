{
 "cells": [
  {
   "cell_type": "code",
   "execution_count": 1,
   "metadata": {},
   "outputs": [
    {
     "name": "stdout",
     "output_type": "stream",
     "text": [
      "Requirement already satisfied: opencv-python in c:\\users\\shaik\\appdata\\local\\programs\\python\\python312\\lib\\site-packages (4.11.0.86)\n",
      "Requirement already satisfied: opencv-python-headless in c:\\users\\shaik\\appdata\\local\\programs\\python\\python312\\lib\\site-packages (4.11.0.86)\n",
      "Requirement already satisfied: cvzone in c:\\users\\shaik\\appdata\\local\\programs\\python\\python312\\lib\\site-packages (1.6.1)\n",
      "Requirement already satisfied: numpy>=1.21.2 in c:\\users\\shaik\\appdata\\local\\programs\\python\\python312\\lib\\site-packages (from opencv-python) (1.26.4)\n",
      "Note: you may need to restart the kernel to use updated packages.\n"
     ]
    },
    {
     "name": "stderr",
     "output_type": "stream",
     "text": [
      "\n",
      "[notice] A new release of pip is available: 23.2.1 -> 25.0.1\n",
      "[notice] To update, run: python.exe -m pip install --upgrade pip\n"
     ]
    }
   ],
   "source": [
    "pip install opencv-python opencv-python-headless cvzone\n"
   ]
  },
  {
   "cell_type": "code",
   "execution_count": 2,
   "metadata": {},
   "outputs": [
    {
     "name": "stdout",
     "output_type": "stream",
     "text": [
      "Requirement already satisfied: mediapipe in c:\\users\\shaik\\appdata\\local\\programs\\python\\python312\\lib\\site-packages (0.10.21)\n",
      "Requirement already satisfied: absl-py in c:\\users\\shaik\\appdata\\local\\programs\\python\\python312\\lib\\site-packages (from mediapipe) (2.1.0)\n",
      "Requirement already satisfied: attrs>=19.1.0 in c:\\users\\shaik\\appdata\\local\\programs\\python\\python312\\lib\\site-packages (from mediapipe) (25.1.0)\n",
      "Requirement already satisfied: flatbuffers>=2.0 in c:\\users\\shaik\\appdata\\local\\programs\\python\\python312\\lib\\site-packages (from mediapipe) (25.2.10)\n",
      "Requirement already satisfied: jax in c:\\users\\shaik\\appdata\\local\\programs\\python\\python312\\lib\\site-packages (from mediapipe) (0.5.0)\n",
      "Requirement already satisfied: jaxlib in c:\\users\\shaik\\appdata\\local\\programs\\python\\python312\\lib\\site-packages (from mediapipe) (0.5.0)\n",
      "Requirement already satisfied: matplotlib in c:\\users\\shaik\\appdata\\local\\programs\\python\\python312\\lib\\site-packages (from mediapipe) (3.10.0)\n",
      "Requirement already satisfied: numpy<2 in c:\\users\\shaik\\appdata\\local\\programs\\python\\python312\\lib\\site-packages (from mediapipe) (1.26.4)\n",
      "Requirement already satisfied: opencv-contrib-python in c:\\users\\shaik\\appdata\\local\\programs\\python\\python312\\lib\\site-packages (from mediapipe) (4.11.0.86)\n",
      "Requirement already satisfied: protobuf<5,>=4.25.3 in c:\\users\\shaik\\appdata\\local\\programs\\python\\python312\\lib\\site-packages (from mediapipe) (4.25.6)\n",
      "Requirement already satisfied: sounddevice>=0.4.4 in c:\\users\\shaik\\appdata\\local\\programs\\python\\python312\\lib\\site-packages (from mediapipe) (0.5.1)\n",
      "Requirement already satisfied: sentencepiece in c:\\users\\shaik\\appdata\\local\\programs\\python\\python312\\lib\\site-packages (from mediapipe) (0.2.0)\n",
      "Requirement already satisfied: CFFI>=1.0 in c:\\users\\shaik\\appdata\\local\\programs\\python\\python312\\lib\\site-packages (from sounddevice>=0.4.4->mediapipe) (1.17.1)\n",
      "Requirement already satisfied: ml_dtypes>=0.4.0 in c:\\users\\shaik\\appdata\\local\\programs\\python\\python312\\lib\\site-packages (from jax->mediapipe) (0.5.1)\n",
      "Requirement already satisfied: opt_einsum in c:\\users\\shaik\\appdata\\local\\programs\\python\\python312\\lib\\site-packages (from jax->mediapipe) (3.4.0)\n",
      "Requirement already satisfied: scipy>=1.11.1 in c:\\users\\shaik\\appdata\\local\\programs\\python\\python312\\lib\\site-packages (from jax->mediapipe) (1.15.2)\n",
      "Requirement already satisfied: contourpy>=1.0.1 in c:\\users\\shaik\\appdata\\local\\programs\\python\\python312\\lib\\site-packages (from matplotlib->mediapipe) (1.3.1)\n",
      "Requirement already satisfied: cycler>=0.10 in c:\\users\\shaik\\appdata\\local\\programs\\python\\python312\\lib\\site-packages (from matplotlib->mediapipe) (0.12.1)\n",
      "Requirement already satisfied: fonttools>=4.22.0 in c:\\users\\shaik\\appdata\\local\\programs\\python\\python312\\lib\\site-packages (from matplotlib->mediapipe) (4.56.0)\n",
      "Requirement already satisfied: kiwisolver>=1.3.1 in c:\\users\\shaik\\appdata\\local\\programs\\python\\python312\\lib\\site-packages (from matplotlib->mediapipe) (1.4.8)\n",
      "Requirement already satisfied: packaging>=20.0 in c:\\users\\shaik\\appdata\\roaming\\python\\python312\\site-packages (from matplotlib->mediapipe) (24.2)\n",
      "Requirement already satisfied: pillow>=8 in c:\\users\\shaik\\appdata\\local\\programs\\python\\python312\\lib\\site-packages (from matplotlib->mediapipe) (11.1.0)\n",
      "Requirement already satisfied: pyparsing>=2.3.1 in c:\\users\\shaik\\appdata\\local\\programs\\python\\python312\\lib\\site-packages (from matplotlib->mediapipe) (3.2.1)\n",
      "Requirement already satisfied: python-dateutil>=2.7 in c:\\users\\shaik\\appdata\\roaming\\python\\python312\\site-packages (from matplotlib->mediapipe) (2.9.0.post0)\n",
      "Requirement already satisfied: pycparser in c:\\users\\shaik\\appdata\\local\\programs\\python\\python312\\lib\\site-packages (from CFFI>=1.0->sounddevice>=0.4.4->mediapipe) (2.22)\n",
      "Requirement already satisfied: six>=1.5 in c:\\users\\shaik\\appdata\\roaming\\python\\python312\\site-packages (from python-dateutil>=2.7->matplotlib->mediapipe) (1.17.0)\n",
      "Note: you may need to restart the kernel to use updated packages.\n"
     ]
    },
    {
     "name": "stderr",
     "output_type": "stream",
     "text": [
      "\n",
      "[notice] A new release of pip is available: 23.2.1 -> 25.0.1\n",
      "[notice] To update, run: python.exe -m pip install --upgrade pip\n"
     ]
    }
   ],
   "source": [
    "pip install mediapipe\n"
   ]
  },
  {
   "cell_type": "code",
   "execution_count": 3,
   "metadata": {},
   "outputs": [
    {
     "name": "stdout",
     "output_type": "stream",
     "text": [
      "Requirement already satisfied: numpy in c:\\users\\shaik\\appdata\\local\\programs\\python\\python312\\lib\\site-packages (1.26.4)\n",
      "Note: you may need to restart the kernel to use updated packages.\n"
     ]
    },
    {
     "name": "stderr",
     "output_type": "stream",
     "text": [
      "\n",
      "[notice] A new release of pip is available: 23.2.1 -> 25.0.1\n",
      "[notice] To update, run: python.exe -m pip install --upgrade pip\n"
     ]
    }
   ],
   "source": [
    "pip install numpy\n"
   ]
  },
  {
   "cell_type": "code",
   "execution_count": 4,
   "metadata": {},
   "outputs": [
    {
     "name": "stdout",
     "output_type": "stream",
     "text": [
      "Next shirt\n",
      "Previous shirt\n",
      "Next shirt\n",
      "Next shirt\n",
      "Next shirt\n",
      "Next shirt\n",
      "Next shirt\n"
     ]
    }
   ],
   "source": [
    "import cv2\n",
    "import cvzone\n",
    "from cvzone.PoseModule import PoseDetector\n",
    "import os\n",
    "\n",
    "# Initialize video capture with higher resolution\n",
    "cap = cv2.VideoCapture(0)\n",
    "cap.set(3, 1280)  # Set width\n",
    "cap.set(4, 720)   # Set height\n",
    "\n",
    "detector = PoseDetector()\n",
    "\n",
    "# Fixed ratio for resizing the shirt image\n",
    "fixedRatio = 262 / 190\n",
    "shirtRatioHeightWidth = 581 / 440  # Height-to-width ratio of the shirt image\n",
    "\n",
    "# Define absolute path to resources\n",
    "resource_path = r\"C:\\Users\\shaik\\Downloads\\Myntra-HackerRamp-WeForShe2024-Team-CODE4CAUSE-main\\Myntra-HackerRamp-WeForShe2024-Team-CODE4CAUSE-main\"\n",
    "shirtFolderPath = os.path.join(resource_path, \"Resources\", \"Shirts\")  # Folder containing shirts\n",
    "\n",
    "# List available shirts (sorted for order consistency)\n",
    "listShirts = sorted(os.listdir(shirtFolderPath))\n",
    "imageNumber = 0  # Current shirt index\n",
    "\n",
    "# Hand movement tracking\n",
    "prevRightX = 0\n",
    "prevLeftX = 0\n",
    "\n",
    "# Store previous shoulder width to detect movement (for auto-fit)\n",
    "prevShoulderWidth = None\n",
    "\n",
    "# Create OpenCV window (Resizable)\n",
    "cv2.namedWindow(\"Virtual Try-On\", cv2.WINDOW_NORMAL)  # Allows manual resizing\n",
    "\n",
    "while True:\n",
    "    success, img = cap.read()\n",
    "    if not success:\n",
    "        break\n",
    "\n",
    "    img = detector.findPose(img)\n",
    "    lmList, bboxInfo = detector.findPosition(img, bboxWithHands=True, draw=False)  # Enable hand detection\n",
    "\n",
    "    if lmList:\n",
    "        lm11 = lmList[11][0:2]  # Left Shoulder\n",
    "        lm12 = lmList[12][0:2]  # Right Shoulder\n",
    "        rightHand = lmList[16][0]  # Right hand X position\n",
    "        leftHand = lmList[15][0]  # Left hand X position\n",
    "\n",
    "        # Calculate shoulder width to determine distance\n",
    "        shoulderWidth = abs(lm11[0] - lm12[0])\n",
    "\n",
    "        # Adjust shirt size dynamically based on distance\n",
    "        if prevShoulderWidth is not None:\n",
    "            scaleFactor = shoulderWidth / prevShoulderWidth\n",
    "        else:\n",
    "            scaleFactor = 1  # Default scale factor\n",
    "\n",
    "        prevShoulderWidth = shoulderWidth  # Update previous width\n",
    "\n",
    "        # Calculate the width of the shirt dynamically\n",
    "        widthOfShirt = int(shoulderWidth * fixedRatio * scaleFactor)\n",
    "\n",
    "        if widthOfShirt > 0:\n",
    "            shirtPath = os.path.join(shirtFolderPath, listShirts[imageNumber])\n",
    "            imgShirt = cv2.imread(shirtPath, cv2.IMREAD_UNCHANGED)\n",
    "\n",
    "            if imgShirt is not None:\n",
    "                imgShirt = cv2.resize(imgShirt, (widthOfShirt, int(widthOfShirt * shirtRatioHeightWidth)))\n",
    "                currentScale = (lm11[0] - lm12[0]) / 190\n",
    "                offset = int(44 * currentScale), int(48 * currentScale)\n",
    "\n",
    "                overlay_x = lm12[0] - offset[0]\n",
    "                overlay_y = max(0, lm12[1] - offset[1])  # Prevent negative values\n",
    "\n",
    "                img = cvzone.overlayPNG(img, imgShirt, (overlay_x, overlay_y))\n",
    "\n",
    "        # Detect swipe gestures for changing shirts\n",
    "        if rightHand - prevRightX > 50:  # Swipe right → Next shirt\n",
    "            if imageNumber < len(listShirts) - 1:\n",
    "                imageNumber += 1\n",
    "                print(\"Next shirt\")\n",
    "        elif leftHand - prevLeftX < -50:  # Swipe left → Previous shirt\n",
    "            if imageNumber > 0:\n",
    "                imageNumber -= 1\n",
    "                print(\"Previous shirt\")\n",
    "\n",
    "        # Update previous hand positions\n",
    "        prevRightX = rightHand\n",
    "        prevLeftX = leftHand\n",
    "\n",
    "    # Show the video output (Resizable window)\n",
    "    cv2.imshow(\"Virtual Try-On\", img)\n",
    "\n",
    "    # Exit when 'q' is pressed\n",
    "    if cv2.waitKey(1) & 0xFF == ord('q'):\n",
    "        break\n",
    "\n",
    "cap.release()\n",
    "cv2.destroyAllWindows()\n"
   ]
  }
 ],
 "metadata": {
  "kernelspec": {
   "display_name": "Python 3",
   "language": "python",
   "name": "python3"
  },
  "language_info": {
   "codemirror_mode": {
    "name": "ipython",
    "version": 3
   },
   "file_extension": ".py",
   "mimetype": "text/x-python",
   "name": "python",
   "nbconvert_exporter": "python",
   "pygments_lexer": "ipython3",
   "version": "3.12.1"
  }
 },
 "nbformat": 4,
 "nbformat_minor": 2
}
